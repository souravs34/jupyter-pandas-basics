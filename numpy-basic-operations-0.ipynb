{
 "cells": [
  {
   "cell_type": "code",
   "execution_count": 1,
   "metadata": {},
   "outputs": [
    {
     "data": {
      "text/plain": [
       "'1.19.2'"
      ]
     },
     "execution_count": 1,
     "metadata": {},
     "output_type": "execute_result"
    }
   ],
   "source": [
    "import numpy\n",
    "numpy.__version__"
   ]
  },
  {
   "cell_type": "code",
   "execution_count": 19,
   "metadata": {},
   "outputs": [
    {
     "name": "stdout",
     "output_type": "stream",
     "text": [
      "[1 2 3 4 5 6 7]\n",
      "1 is the dimention of the array\n"
     ]
    }
   ],
   "source": [
    "#Creating 1D Array\n",
    "import numpy as np\n",
    "arr=np.array([1,2,3,4,5,6,7])\n",
    "print(arr)\n",
    "print(arr.ndim,\"is the dimention of the array\")"
   ]
  },
  {
   "cell_type": "code",
   "execution_count": 3,
   "metadata": {},
   "outputs": [
    {
     "data": {
      "text/plain": [
       "numpy.ndarray"
      ]
     },
     "execution_count": 3,
     "metadata": {},
     "output_type": "execute_result"
    }
   ],
   "source": [
    "type(arr)"
   ]
  },
  {
   "cell_type": "code",
   "execution_count": 18,
   "metadata": {},
   "outputs": [
    {
     "name": "stdout",
     "output_type": "stream",
     "text": [
      "[[1 2 3]\n",
      " [4 5 6]\n",
      " [8 6 7]]\n",
      "2 is the dimention of the array\n"
     ]
    }
   ],
   "source": [
    "#Creating 2D Array\n",
    "import numpy as np\n",
    "arr=np.array([[1,2,3],[4,5,6],[8,6,7]])\n",
    "print(arr)\n",
    "\n",
    "print(arr.ndim,\"is the dimention of the array\")"
   ]
  },
  {
   "cell_type": "code",
   "execution_count": 20,
   "metadata": {},
   "outputs": [
    {
     "name": "stdout",
     "output_type": "stream",
     "text": [
      "[[[  1   2   3]\n",
      "  [  1   2   3]]\n",
      "\n",
      " [[  7   8   5]\n",
      "  [ 13  22  33]]\n",
      "\n",
      " [[ 14  25  36]\n",
      "  [ 16 524  33]]]\n",
      "3 is the dimention of the array\n"
     ]
    }
   ],
   "source": [
    "#Creating 3D Array\n",
    "import numpy as np\n",
    "arr=np.array([[[1,2,3],[1,2,3]],\n",
    "             [[7,8,5],[13,22,33]],\n",
    "             [[14,25,36],[16,524,33]]])\n",
    "print(arr)\n",
    "print(arr.ndim,\"is the dimention of the array\")"
   ]
  },
  {
   "cell_type": "code",
   "execution_count": 25,
   "metadata": {},
   "outputs": [
    {
     "name": "stdout",
     "output_type": "stream",
     "text": [
      "1 is the x[0] element of array which is first element\n",
      "55 is the x[1] element of array which is second element\n",
      "77 is the x[2] element of array which is third element\n",
      "655 is the x[3] element of array which is fourth element\n",
      "44 is the x[4] element of array which is fifth element\n",
      "2 is the x[-1] element of array which is last element\n",
      "3 is the x[-2] element of array which is second-last element\n",
      "44 is the x[-3] element of array which is third-last element\n",
      "655 is the x[-4] element of array which is fourth-last element\n"
     ]
    }
   ],
   "source": [
    "import numpy as np\n",
    "x=np.array([1,55,77,655,44,3,2])\n",
    "print(x[0],\"is the x[0] element of array which is first element\")\n",
    "print(x[1],\"is the x[1] element of array which is second element\")\n",
    "print(x[2],\"is the x[2] element of array which is third element\")\n",
    "print(x[3],\"is the x[3] element of array which is fourth element\")\n",
    "print(x[4],\"is the x[4] element of array which is fifth element\")\n",
    "print(x[-1],\"is the x[-1] element of array which is last element\")\n",
    "print(x[-2],\"is the x[-2] element of array which is second-last element\")\n",
    "print(x[-3],\"is the x[-3] element of array which is third-last element\")\n",
    "print(x[-4],\"is the x[-4] element of array which is fourth-last element\")"
   ]
  },
  {
   "cell_type": "code",
   "execution_count": 31,
   "metadata": {},
   "outputs": [
    {
     "name": "stdout",
     "output_type": "stream",
     "text": [
      "12\n"
     ]
    }
   ],
   "source": [
    "import numpy as np\n",
    "arr=np.array([[1,2,3,4],\n",
    "              [5,6,7,8],\n",
    "              [12,14,16,18],\n",
    "              [21,23,25,27]])\n",
    "print(arr[-2,-4])"
   ]
  },
  {
   "cell_type": "code",
   "execution_count": 33,
   "metadata": {},
   "outputs": [
    {
     "name": "stdout",
     "output_type": "stream",
     "text": [
      "[1 4 5]\n",
      "[5 6 7 8 6]\n",
      "[1 4 5]\n",
      "[]\n",
      "[1]\n",
      "[1]\n",
      "[1 8]\n",
      "[1 4 5 6 7 8 6]\n"
     ]
    }
   ],
   "source": [
    "import numpy as np\n",
    "arr=np.array([1,4,5,6,7,8,6])\n",
    "print(arr[0:3])\n",
    "print(arr[2:])\n",
    "print(arr[:3])\n",
    "print(arr[0:1:-1])\n",
    "print(arr[0:2:5])\n",
    "print(arr[:1:4])\n",
    "print(arr[0::5])\n",
    "print(arr[::])"
   ]
  },
  {
   "cell_type": "code",
   "execution_count": 34,
   "metadata": {},
   "outputs": [
    {
     "name": "stdout",
     "output_type": "stream",
     "text": [
      "[3 8]\n"
     ]
    }
   ],
   "source": [
    "import numpy as np\n",
    "x=np.array([[1,2,3,4,5],[6,7,8,9,0]])\n",
    "print(x[0:2,2])"
   ]
  },
  {
   "cell_type": "code",
   "execution_count": null,
   "metadata": {},
   "outputs": [],
   "source": []
  }
 ],
 "metadata": {
  "kernelspec": {
   "display_name": "Python 3",
   "language": "python",
   "name": "python3"
  },
  "language_info": {
   "codemirror_mode": {
    "name": "ipython",
    "version": 3
   },
   "file_extension": ".py",
   "mimetype": "text/x-python",
   "name": "python",
   "nbconvert_exporter": "python",
   "pygments_lexer": "ipython3",
   "version": "3.8.5"
  }
 },
 "nbformat": 4,
 "nbformat_minor": 4
}
