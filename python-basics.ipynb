{
 "cells": [
  {
   "cell_type": "code",
   "execution_count": 7,
   "metadata": {},
   "outputs": [
    {
     "name": "stdout",
     "output_type": "stream",
     "text": [
      "5\n",
      "6\n",
      "<class 'int'>\n"
     ]
    }
   ],
   "source": [
    "#Integer\n",
    "a=5\n",
    "b=6\n",
    "print(a)\n",
    "print(b)\n",
    "print(type(a))\n"
   ]
  },
  {
   "cell_type": "code",
   "execution_count": 19,
   "metadata": {},
   "outputs": [
    {
     "name": "stdout",
     "output_type": "stream",
     "text": [
      "9.0\n",
      "7.8\n",
      "<class 'float'>\n",
      "9\n"
     ]
    }
   ],
   "source": [
    "#Float\n",
    "a=9.0\n",
    "b=7.8\n",
    "print(a)\n",
    "print(b)\n",
    "print(type(a))\n",
    "print(int(a))        #Conversion from float to int\n"
   ]
  },
  {
   "cell_type": "code",
   "execution_count": 5,
   "metadata": {},
   "outputs": [
    {
     "name": "stdout",
     "output_type": "stream",
     "text": [
      "(4+7j)\n",
      "(3+3j)\n",
      "<class 'complex'>\n",
      "(3+6j)\n"
     ]
    }
   ],
   "source": [
    "#Complex Number\n",
    "a=4+7j\n",
    "b=3+3j\n",
    "print(a)  \n",
    "print(b)\n",
    "c=3+6j\n",
    "print(type(c))\n",
    "print(c)"
   ]
  },
  {
   "cell_type": "code",
   "execution_count": 10,
   "metadata": {},
   "outputs": [
    {
     "name": "stdout",
     "output_type": "stream",
     "text": [
      "True\n",
      "False\n"
     ]
    }
   ],
   "source": [
    "#Booleon\n",
    "a=True\n",
    "print(a)\n",
    "b=False\n",
    "print(b)"
   ]
  },
  {
   "cell_type": "code",
   "execution_count": 11,
   "metadata": {},
   "outputs": [
    {
     "name": "stdout",
     "output_type": "stream",
     "text": [
      "Hello World\n"
     ]
    }
   ],
   "source": [
    "#String\n",
    "a=\"Hello World\"\n",
    "print(a)"
   ]
  },
  {
   "cell_type": "code",
   "execution_count": 18,
   "metadata": {},
   "outputs": [
    {
     "name": "stdout",
     "output_type": "stream",
     "text": [
      "[1, 2, 3, 4]\n",
      "<class 'list'>\n",
      "[1, 2]\n"
     ]
    }
   ],
   "source": [
    "#List\n",
    "a=[1,2,3,4]\n",
    "print(a)\n",
    "print(type(a))\n",
    "print(a[0:2])  #Printing 2 Elements"
   ]
  },
  {
   "cell_type": "code",
   "execution_count": 15,
   "metadata": {},
   "outputs": [
    {
     "name": "stdout",
     "output_type": "stream",
     "text": [
      "(1, 2, 3, 4, 5)\n",
      "<class 'tuple'>\n"
     ]
    }
   ],
   "source": [
    "#Tuple\n",
    "a=(1,2,3,4,5)\n",
    "print(a)\n",
    "print(type(a))"
   ]
  },
  {
   "cell_type": "code",
   "execution_count": 17,
   "metadata": {},
   "outputs": [
    {
     "name": "stdout",
     "output_type": "stream",
     "text": [
      "{'a': 3, 'b': 4, 'c': 5}\n",
      "<class 'dict'>\n"
     ]
    }
   ],
   "source": [
    "#Dictionary\n",
    "a={'a':3,'b':4,'c':5}\n",
    "print(a)\n",
    "print(type(a))\n"
   ]
  },
  {
   "cell_type": "code",
   "execution_count": 45,
   "metadata": {},
   "outputs": [
    {
     "name": "stdout",
     "output_type": "stream",
     "text": [
      "l\n",
      "ello\n",
      "Hello Worldhello world!\n",
      "True\n",
      "False\n",
      "isalnum= True\n",
      "LowerCase= hello world\n",
      "Uppercase= HELLO WORLD\n"
     ]
    }
   ],
   "source": [
    "#Second Task:- To Demonstate Various Operations on String.\n",
    "\n",
    "String = \"hello world!\"\n",
    "Str =\"Hello World\"\n",
    "\n",
    "print(Str[3])\n",
    "print(Str[1:5])                 #String Slicing\n",
    "str3=Str + \" \"+String          #Concanate\n",
    "print(str3)\n",
    "#Operation1\n",
    "x = String.islower()    # Checks is all letter of string are in lowercase.\n",
    "y=Str.islower() \n",
    "print(x)\n",
    "print(y)\n",
    "#Operation2\n",
    "String = \"Cpp12\"\n",
    "x = String.isalnum()      #Checks if string Contains the atleast one alphabet and number\n",
    "print(\"isalnum=\",x)\n",
    "#Operation3\n",
    "String=\"HELLO World\"\n",
    "x = String.lower()        #Converts String Into lowercase\n",
    "print(\"LowerCase=\",x)\n",
    "#Operation4\n",
    "String=\"hello world\"\n",
    "x=String.upper()           #Converts String Into Uppercase\n",
    "print(\"Uppercase=\",x)"
   ]
  },
  {
   "cell_type": "code",
   "execution_count": 34,
   "metadata": {},
   "outputs": [
    {
     "name": "stdout",
     "output_type": "stream",
     "text": [
      "Operation5= Abc Def Ghi Jkl\n",
      "Operation6= False\n"
     ]
    }
   ],
   "source": [
    "#Operation5\n",
    "String = \"abc def ghi jkl\"\n",
    "x = String.title()             #Converts First letter of word into capital (Capitalise First letter of string)\n",
    "print(\"Operation5=\",x)\n",
    "#Operation6\n",
    "String= \"aph4\"\n",
    "x= String.isalpha()             #Checks is it contains all letters are alphabets otherwise returns false.\n",
    "print(\"Operation6=\",x) "
   ]
  },
  {
   "cell_type": "code",
   "execution_count": 47,
   "metadata": {},
   "outputs": [
    {
     "name": "stdout",
     "output_type": "stream",
     "text": [
      "['a', 'b', 'c', 'o']\n",
      "4\n",
      "[4, 3, 2, 1]\n",
      "S\n",
      "o\n",
      "u\n",
      "r\n",
      "a\n",
      "v\n",
      " \n",
      "B\n",
      "o\n",
      "r\n",
      "a\n",
      "t\n",
      "e\n",
      "0\n",
      "1\n",
      "2\n",
      "3\n",
      "4\n",
      "5\n",
      "6\n",
      "7\n",
      "8\n",
      "9\n"
     ]
    }
   ],
   "source": [
    "# List Methods\n",
    "\n",
    "#-->\n",
    "\n",
    "list1 = ['a', 'b', 'c']\n",
    "list1.append(\"o\")     # It Adds the letter at last\n",
    "print(list1)\n",
    "\n",
    "#-->\n",
    "\n",
    "list2=['a','b','c','a','a','a','b']           # Prints the Number of Elements Found.\n",
    "print(list2.count('a'))\n",
    "\n",
    "#-->\n",
    "\n",
    "list3 = [1,2,3,4]\n",
    "list3.reverse()\n",
    "print(list3)\n",
    "\n",
    "#-->\n",
    "\n",
    "str=\"Sourav Borate\"\n",
    "for i in range(len(str)):\n",
    "    print(str[i])\n",
    "    \n",
    "for i in range(10):\n",
    "    print(i)"
   ]
  },
  {
   "cell_type": "code",
   "execution_count": null,
   "metadata": {},
   "outputs": [],
   "source": []
  }
 ],
 "metadata": {
  "kernelspec": {
   "display_name": "Python 3",
   "language": "python",
   "name": "python3"
  },
  "language_info": {
   "codemirror_mode": {
    "name": "ipython",
    "version": 3
   },
   "file_extension": ".py",
   "mimetype": "text/x-python",
   "name": "python",
   "nbconvert_exporter": "python",
   "pygments_lexer": "ipython3",
   "version": "3.8.5"
  }
 },
 "nbformat": 4,
 "nbformat_minor": 4
}
